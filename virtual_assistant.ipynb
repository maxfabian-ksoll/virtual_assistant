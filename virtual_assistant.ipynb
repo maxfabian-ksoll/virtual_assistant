{
 "cells": [
  {
   "cell_type": "code",
   "execution_count": 1,
   "metadata": {
    "collapsed": true,
    "ExecuteTime": {
     "end_time": "2023-07-28T08:49:31.913323300Z",
     "start_time": "2023-07-28T08:49:31.307318Z"
    }
   },
   "outputs": [],
   "source": [
    "import openai\n",
    "import elevenlabs\n",
    "import os\n",
    "from secrets import *\n",
    "\n",
    "openai.api_key = os.getenv(openai)"
   ]
  },
  {
   "cell_type": "code",
   "execution_count": null,
   "outputs": [],
   "source": [],
   "metadata": {
    "collapsed": false
   }
  }
 ],
 "metadata": {
  "kernelspec": {
   "display_name": "Python 3",
   "language": "python",
   "name": "python3"
  },
  "language_info": {
   "codemirror_mode": {
    "name": "ipython",
    "version": 2
   },
   "file_extension": ".py",
   "mimetype": "text/x-python",
   "name": "python",
   "nbconvert_exporter": "python",
   "pygments_lexer": "ipython2",
   "version": "2.7.6"
  }
 },
 "nbformat": 4,
 "nbformat_minor": 0
}
